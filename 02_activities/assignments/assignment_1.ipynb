{
 "cells": [
  {
   "cell_type": "markdown",
   "metadata": {},
   "source": [
    "# Working with parquet files\n",
    "\n",
    "## Objective\n",
    "\n",
    "+ In this assignment, we will use the data downloaded with the module `data_manager` to create features.\n",
    "\n",
    "(11 pts total)\n",
    "\n",
    "## Prerequisites\n",
    "\n",
    "+ This notebook assumes that price data is available to you in the environment variable `PRICE_DATA`. If you have not done so, then execute the notebook `production_2_data_engineering.ipynb` to create this data set.\n"
   ]
  },
  {
   "cell_type": "markdown",
   "metadata": {},
   "source": [
    "+ Load the environment variables using dotenv. (1 pt)"
   ]
  },
  {
   "cell_type": "code",
   "execution_count": 1,
   "metadata": {},
   "outputs": [],
   "source": [
    "# Write your code below.\n",
    "import os\n",
    "import time\n",
    "\n",
    "# Set working dir the same as the `.env` file\n",
    "os.chdir('../../01_materials/labs/')\n",
    "from dotenv import load_dotenv\n",
    "load_dotenv() \n",
    "\n",
    "%reload_ext dotenv\n",
    "%dotenv\n"
   ]
  },
  {
   "cell_type": "code",
   "execution_count": 2,
   "metadata": {},
   "outputs": [],
   "source": [
    "\n",
    "import dask\n",
    "dask.config.set({'dataframe.query-planning': True})\n",
    "import dask.dataframe as dd"
   ]
  },
  {
   "cell_type": "markdown",
   "metadata": {},
   "source": [
    "+ Load the environment variable `PRICE_DATA`.\n",
    "+ Use [glob](https://docs.python.org/3/library/glob.html) to find the path of all parquet files in the directory `PRICE_DATA`.\n",
    "\n",
    "(1pt)"
   ]
  },
  {
   "cell_type": "code",
   "execution_count": 3,
   "metadata": {},
   "outputs": [
    {
     "name": "stdout",
     "output_type": "stream",
     "text": [
      "PRICE_DATA directory: ../../05_src/data/prices/\n",
      "Parquet files found: ['../../05_src/data/prices\\\\A\\\\A_2000.parquet\\\\part.0.parquet', '../../05_src/data/prices\\\\A\\\\A_2001.parquet\\\\part.0.parquet', '../../05_src/data/prices\\\\A\\\\A_2002.parquet\\\\part.0.parquet', '../../05_src/data/prices\\\\A\\\\A_2003.parquet\\\\part.0.parquet', '../../05_src/data/prices\\\\A\\\\A_2004.parquet\\\\part.0.parquet']\n"
     ]
    }
   ],
   "source": [
    "import os\n",
    "from glob import glob\n",
    "\n",
    "# Write your code below.\n",
    "# Load the PRICE_DATA environment variable\n",
    "price_data_dir = os.getenv('PRICE_DATA')\n",
    "print(f\"PRICE_DATA directory: {price_data_dir}\")\n",
    "\n",
    "parquet_files = glob(os.path.join(price_data_dir, '*/*/*.parquet'))\n",
    "print(f\"Parquet files found: {parquet_files[:5]}\")  # Print the first few files\n",
    "dd_px = dd.read_parquet(parquet_files,npartitions=len(\"ticker\")).set_index(\"ticker\")\n"
   ]
  },
  {
   "cell_type": "markdown",
   "metadata": {},
   "source": [
    "For each ticker and using Dask, do the following:\n",
    "\n",
    "+ Add lags for variables Close and Adj_Close.\n",
    "+ Add returns based on Adjusted Close:\n",
    "    \n",
    "    - `returns`: (Adj Close / Adj Close_lag) - 1\n",
    "\n",
    "+ Add the following range: \n",
    "\n",
    "    - `hi_lo_range`: this is the day's High minus Low.\n",
    "\n",
    "+ Assign the result to `dd_feat`.\n",
    "\n",
    "(4 pt)"
   ]
  },
  {
   "cell_type": "code",
   "execution_count": 7,
   "metadata": {},
   "outputs": [
    {
     "name": "stderr",
     "output_type": "stream",
     "text": [
      "C:\\Users\\skiev\\AppData\\Local\\Temp\\ipykernel_20452\\2736475020.py:7: UserWarning: `meta` is not specified, inferred from partial data. Please provide `meta` if the result is unexpected.\n",
      "  Before: .apply(func)\n",
      "  After:  .apply(func, meta={'x': 'f8', 'y': 'f8'}) for dataframe result\n",
      "  or:     .apply(func, meta=('x', 'f8'))            for series result\n",
      "  dd_feat = (dd_px.groupby('ticker', group_keys=False).apply(\n"
     ]
    }
   ],
   "source": [
    "# Write your code below.\n",
    "\n",
    "import numpy as np\n",
    "\n",
    "\n",
    "\n",
    "dd_feat = (dd_px.groupby('ticker', group_keys=False).apply(\n",
    "    lambda x: x.assign(Close_lag_1 = x['Close'].shift(1))\n",
    ").assign(\n",
    "    Adj_Close = lambda x: x['Close']\n",
    ").assign(\n",
    "    Adj_Close_lag_1 = lambda x: x['Adj_Close'].shift(1)\n",
    ").assign(    \n",
    "    returns = lambda x: x['Close']/x['Close_lag_1'] - 1\n",
    ").assign(\n",
    "    hi_lo_range = lambda x: (x['High'] - x['Low'])\n",
    "))\n"
   ]
  },
  {
   "cell_type": "markdown",
   "metadata": {},
   "source": [
    "+ Convert the Dask data frame to a pandas data frame. \n",
    "+ Add a rolling average return calculation with a window of 10 days.\n",
    "+ *Tip*: Consider using `.rolling(10).mean()`.\n",
    "\n",
    "(3 pt)"
   ]
  },
  {
   "cell_type": "code",
   "execution_count": 10,
   "metadata": {},
   "outputs": [
    {
     "name": "stdout",
     "output_type": "stream",
     "text": [
      "             Date       Open       High        Low      Close  Adj Close  \\\n",
      "ticker                                                                     \n",
      "GILD   2024-06-24  71.000000  72.070000  70.559998  70.730003  70.730003   \n",
      "GILD   2024-06-25  70.639999  71.480003  69.529999  69.610001  69.610001   \n",
      "GILD   2024-06-26  69.190002  70.230003  68.900002  69.309998  69.309998   \n",
      "GILD   2024-06-27  69.139999  69.589996  68.519997  68.830002  68.830002   \n",
      "GILD   2024-06-28  68.830002  69.000000  68.059998  68.610001  68.610001   \n",
      "\n",
      "          Volume       sector      subsector  year  Close_lag_1  Adj_Close  \\\n",
      "ticker                                                                       \n",
      "GILD    10915500  Health Care  Biotechnology  2024    70.669998  70.730003   \n",
      "GILD     9401500  Health Care  Biotechnology  2024    70.730003  69.610001   \n",
      "GILD     5795200  Health Care  Biotechnology  2024    69.610001  69.309998   \n",
      "GILD     7176300  Health Care  Biotechnology  2024    69.309998  68.830002   \n",
      "GILD     9590000  Health Care  Biotechnology  2024    68.830002  68.610001   \n",
      "\n",
      "        Adj_Close_lag_1   returns  hi_lo_range  rolling_avg_return  \n",
      "ticker                                                              \n",
      "GILD          70.669998  0.000849     1.510002            0.009365  \n",
      "GILD          70.730003 -0.015835     1.950005            0.006932  \n",
      "GILD          69.610001 -0.004310     1.330002            0.007053  \n",
      "GILD          69.309998 -0.006925     1.070000            0.007208  \n",
      "GILD          68.830002 -0.003196     0.940002            0.008100  \n"
     ]
    }
   ],
   "source": [
    "# Write your code below.\n",
    "# Convert to pandas DataFrame\n",
    "dd_px = dd_px.repartition(npartitions=5)\n",
    "pd_feat = dd_feat.compute()\n",
    "\n",
    "# Add rolling average return calculation with a window of 10 days\n",
    "pd_feat['rolling_avg_return'] = pd_feat['returns'].rolling(window=10).mean()\n",
    "\n",
    "# Display the result\n",
    "print(pd_feat.tail())\n",
    "\n"
   ]
  },
  {
   "cell_type": "markdown",
   "metadata": {},
   "source": [
    "Please comment:\n",
    "\n",
    "+ Was it necessary to convert to pandas to calculate the moving average return?\n",
    "\n",
    "    + It is not strictly necessary to convert a Dask DataFrame to a pandas DataFrame to calculate the moving average return. Dask DataFrames are designed to handle large datasets that do not fit into memory and provide functionality similar to pandas, including operations like moving averages.\n",
    "    \n",
    "+ Would it have been better to do it in Dask? Why?\n",
    "    + Yes, it would generally be better to perform the moving average calculation in Dask, especially if you are working with large datasets that do not fit into memory. Here are some reasons why:\n",
    "        + Dask is designed to handle large datasets by breaking them into smaller, manageable partitions and performing computations in parallel. This allows you to work with data that exceeds the available memory on a single machine.\n",
    "        + Dask can distribute computations across multiple cores or even multiple machines, which can significantly speed up processing times for large datasets.\n",
    "        + Dask processes data in chunks, meaning it only loads a portion of the data into memory at any given time. This prevents memory overflow issues that can occur when trying to process large datasets with pandas.\n",
    "        + Dask's API is very similar to pandas, making it easy to transition code from pandas to Dask with minimal changes.\n",
    "        + Converting between Dask and pandas can be time-consuming and memory-intensive. By staying within Dask, you avoid the overhead associated with these conversions.\n",
    "\n",
    "(1 pt)"
   ]
  },
  {
   "cell_type": "markdown",
   "metadata": {},
   "source": [
    "## Criteria\n",
    "\n",
    "|Criteria|Complete|Incomplete|\n",
    "|---------------------|----|----|\n",
    "|Calculations         |Calculations were done correctly.|Calculations were not done correctly.|\n",
    "|Explanation of answer|Answer was concise and explained the learner's reasoning in depth.|Answer was not concise and did not explained the learner's reasoning in depth.|"
   ]
  },
  {
   "cell_type": "markdown",
   "metadata": {},
   "source": [
    "## Submission Information\n",
    "\n",
    "🚨 **Please review our [Assignment Submission Guide](https://github.com/UofT-DSI/onboarding/blob/main/onboarding_documents/submissions.md)** 🚨 for detailed instructions on how to format, branch, and submit your work. Following these guidelines is crucial for your submissions to be evaluated correctly.\n",
    "\n",
    "### Submission Parameters:\n",
    "* Submission Due Date: `HH:MM AM/PM - DD/MM/YYYY`\n",
    "* The branch name for your repo should be: `assignment-1`\n",
    "* What to submit for this assignment:\n",
    "    * This Jupyter Notebook (assignment_1.ipynb) should be populated and should be the only change in your pull request.\n",
    "* What the pull request link should look like for this assignment: `https://github.com/<your_github_username>/production/pull/<pr_id>`\n",
    "    * Open a private window in your browser. Copy and paste the link to your pull request into the address bar. Make sure you can see your pull request properly. This helps the technical facilitator and learning support staff review your submission easily.\n",
    "\n",
    "Checklist:\n",
    "- [ ] Created a branch with the correct naming convention.\n",
    "- [ ] Ensured that the repository is public.\n",
    "- [ ] Reviewed the PR description guidelines and adhered to them.\n",
    "- [ ] Verify that the link is accessible in a private browser window.\n",
    "\n",
    "If you encounter any difficulties or have questions, please don't hesitate to reach out to our team via our Slack at `#cohort-3-help`. Our Technical Facilitators and Learning Support staff are here to help you navigate any challenges."
   ]
  }
 ],
 "metadata": {
  "kernelspec": {
   "display_name": "env",
   "language": "python",
   "name": "python3"
  },
  "language_info": {
   "codemirror_mode": {
    "name": "ipython",
    "version": 3
   },
   "file_extension": ".py",
   "mimetype": "text/x-python",
   "name": "python",
   "nbconvert_exporter": "python",
   "pygments_lexer": "ipython3",
   "version": "3.12.4"
  }
 },
 "nbformat": 4,
 "nbformat_minor": 2
}
